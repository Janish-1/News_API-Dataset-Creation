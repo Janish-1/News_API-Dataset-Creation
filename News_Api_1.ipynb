{
 "cells": [
  {
   "cell_type": "code",
   "execution_count": null,
   "id": "22baf369",
   "metadata": {},
   "outputs": [],
   "source": [
    "api_key = '' # can be made on https://newsapi.org/\n",
    "api_key1 = '' \n",
    "api_key2 = ''\n",
    "api_key3 = ''"
   ]
  },
  {
   "cell_type": "markdown",
   "id": "86396e88",
   "metadata": {},
   "source": [
    "## Initialization of the Libraries and Identifying the api"
   ]
  },
  {
   "cell_type": "code",
   "execution_count": null,
   "id": "e5951efc",
   "metadata": {},
   "outputs": [],
   "source": [
    "from newsapi import NewsApiClient\n",
    "import pandas as pd\n",
    "import requests\n",
    "newsapi = NewsApiClient(api_key)"
   ]
  },
  {
   "cell_type": "markdown",
   "id": "986f8555",
   "metadata": {},
   "source": [
    "## Fetching the Top Sources Articles in a dataframe"
   ]
  },
  {
   "cell_type": "code",
   "execution_count": null,
   "id": "73afbc58",
   "metadata": {},
   "outputs": [],
   "source": [
    "newsapi = NewsApiClient(api_key)\n",
    "top = newsapi.get_top_headlines(sources='')\n",
    "new = pd.DataFrame.from_dict(top['articles'])"
   ]
  },
  {
   "cell_type": "code",
   "execution_count": null,
   "id": "f9788927",
   "metadata": {},
   "outputs": [],
   "source": [
    "new"
   ]
  },
  {
   "cell_type": "markdown",
   "id": "8166d04e",
   "metadata": {},
   "source": [
    "## Query Based System with news api"
   ]
  },
  {
   "cell_type": "code",
   "execution_count": null,
   "id": "39fe93db",
   "metadata": {},
   "outputs": [],
   "source": [
    "query = \"covid-19\"\n",
    "\n",
    "query_params = {\n",
    "      \"source\": \"bbc-news\",\n",
    "      \"sortBy\": \"top\",\n",
    "      \"apiKey\": api_key,\n",
    "    }\n",
    "main_url = \"https://newsapi.org/v2/everything?q=\"+query+\"&apiKey=api_key\"\n",
    " \n",
    "# fetching data in json format\n",
    "res = requests.get(main_url, params=query_params)\n",
    "open_bbc_page = res.json()\n",
    "\n",
    "# getting all articles in a string article\n",
    "article = open_bbc_page[\"articles\"]\n",
    "    \n",
    "article"
   ]
  },
  {
   "cell_type": "markdown",
   "id": "6129f6d1",
   "metadata": {},
   "source": [
    "## Sources of News api"
   ]
  },
  {
   "cell_type": "code",
   "execution_count": null,
   "id": "370eefdf",
   "metadata": {},
   "outputs": [],
   "source": [
    "sources = newsapi.get_sources()\n",
    "x = sources['sources']\n",
    "\n",
    "all_source = []\n",
    "for i in x:\n",
    "    all_source.append(i['id'])\n",
    "all_source"
   ]
  },
  {
   "cell_type": "code",
   "execution_count": null,
   "id": "21d61677",
   "metadata": {},
   "outputs": [],
   "source": [
    "len(all_source)"
   ]
  },
  {
   "cell_type": "markdown",
   "id": "aa1b3699",
   "metadata": {},
   "source": [
    "##  Creation of top news dataset"
   ]
  },
  {
   "cell_type": "markdown",
   "id": "6ed1ef41",
   "metadata": {},
   "source": [
    "# WARNING WARNING WARNING THIS WILL USE UP ALL THE REQUESTS FOR THE DAY UNLESS YOU ARE USING A PAID PLAN"
   ]
  },
  {
   "cell_type": "code",
   "execution_count": 1,
   "id": "cc970473",
   "metadata": {
    "scrolled": true
   },
   "outputs": [
    {
     "name": "stdout",
     "output_type": "stream",
     "text": [
      "Key 4 is used up\n",
      "Key 1 is used up\n",
      "Key 2 is used up\n",
      "Key 3 is used up\n",
      "Key 4 is used up\n",
      "Key 1 is used up\n",
      "Key 2 is used up\n",
      "Key 3 is used up\n",
      "Key 4 is used up\n",
      "Key 1 is used up\n",
      "Key 2 is used up\n",
      "Key 3 is used up\n",
      "Key 4 is used up\n",
      "Key 1 is used up\n",
      "Key 2 is used up\n",
      "Key 3 is used up\n",
      "Key 4 is used up\n",
      "Key 1 is used up\n",
      "Key 2 is used up\n",
      "Key 3 is used up\n",
      "Key 4 is used up\n",
      "Key 1 is used up\n",
      "Key 2 is used up\n",
      "Key 3 is used up\n",
      "Key 4 is used up\n",
      "Key 1 is used up\n",
      "Key 2 is used up\n",
      "Key 3 is used up\n",
      "Key 4 is used up\n",
      "Key 1 is used up\n",
      "Key 2 is used up\n",
      "Key 3 is used up\n",
      "Key 4 is used up\n",
      "Key 1 is used up\n",
      "Key 2 is used up\n",
      "Key 3 is used up\n",
      "Key 4 is used up\n",
      "Key 1 is used up\n",
      "Key 2 is used up\n",
      "Key 3 is used up\n",
      "Key 4 is used up\n",
      "Key 1 is used up\n",
      "Key 2 is used up\n",
      "Key 3 is used up\n",
      "Key 4 is used up\n",
      "Key 1 is used up\n",
      "Key 2 is used up\n",
      "Key 3 is used up\n",
      "Key 4 is used up\n",
      "Key 1 is used up\n",
      "Key 2 is used up\n",
      "Key 3 is used up\n",
      "Key 4 is used up\n",
      "Key 1 is used up\n",
      "Key 2 is used up\n",
      "Key 3 is used up\n",
      "Key 4 is used up\n",
      "Key 1 is used up\n",
      "Key 2 is used up\n",
      "Key 3 is used up\n",
      "Key 4 is used up\n",
      "Key 1 is used up\n",
      "Key 2 is used up\n",
      "Key 3 is used up\n",
      "Key 4 is used up\n",
      "Key 1 is used up\n",
      "Key 2 is used up\n",
      "Key 3 is used up\n",
      "Key 4 is used up\n",
      "Key 1 is used up\n",
      "Key 2 is used up\n",
      "Key 3 is used up\n",
      "Key 4 is used up\n",
      "Key 1 is used up\n",
      "Key 2 is used up\n",
      "Key 3 is used up\n",
      "Key 4 is used up\n",
      "Key 1 is used up\n",
      "Key 2 is used up\n",
      "Key 3 is used up\n",
      "Key 4 is used up\n",
      "Key 1 is used up\n",
      "Key 2 is used up\n",
      "Key 3 is used up\n",
      "Key 4 is used up\n",
      "Key 1 is used up\n",
      "Key 2 is used up\n",
      "Key 3 is used up\n",
      "Key 4 is used up\n",
      "Key 1 is used up\n",
      "Key 2 is used up\n",
      "Key 3 is used up\n",
      "Key 4 is used up\n",
      "Key 1 is used up\n",
      "Key 2 is used up\n",
      "Key 3 is used up\n",
      "Key 4 is used up\n",
      "Key 1 is used up\n",
      "Key 2 is used up\n",
      "Key 3 is used up\n",
      "Key 4 is used up\n",
      "Key 1 is used up\n",
      "Key 2 is used up\n",
      "Key 3 is used up\n",
      "Key 4 is used up\n",
      "Key 1 is used up\n",
      "Key 2 is used up\n",
      "Key 3 is used up\n",
      "Key 4 is used up\n",
      "Key 1 is used up\n",
      "Key 2 is used up\n",
      "Key 3 is used up\n",
      "Key 4 is used up\n"
     ]
    }
   ],
   "source": [
    "import pandas as pd\n",
    "import csv\n",
    "from newsapi import NewsApiClient\n",
    "import requests\n",
    "\n",
    "api_key = ''\n",
    "api_key1 = '' \n",
    "api_key2 = ''\n",
    "api_key3 = ''\n",
    "\n",
    "keys = [api_key,api_key1,api_key2,api_key3]\n",
    "\n",
    "# Acessing the api client\n",
    "newsapi = NewsApiClient(api_key)\n",
    "newsapi1 = NewsApiClient(api_key1)\n",
    "newsapi2 = NewsApiClient(api_key2)\n",
    "newsapi3 = NewsApiClient(api_key3)\n",
    "\n",
    "newsapi_list = [newsapi,newsapi1,newsapi2,newsapi3]\n",
    "\n",
    "# Getting the List of All sources\n",
    "sources = newsapi3.get_sources()\n",
    "x = sources['sources']\n",
    "all_source = []\n",
    "for i in x:\n",
    "    all_source.append(i['id'])\n",
    "    \n",
    "for j in all_source:\n",
    "    try:\n",
    "        top = newsapi.get_top_headlines(sources=j)\n",
    "        temp_data = pd.DataFrame.from_dict(top['articles'])\n",
    "        temp_data.to_csv(\"data_news.csv\", mode='a')\n",
    "    except:\n",
    "        print(\"Key 1 is used up\")\n",
    "    try:\n",
    "        top = newsapi1.get_top_headlines(sources=j)\n",
    "        temp_data = pd.DataFrame.from_dict(top['articles'])\n",
    "        temp_data.to_csv(\"data_news.csv\", mode='a')\n",
    "    except:\n",
    "        print(\"Key 2 is used up\")\n",
    "    try:\n",
    "        top = newsapi2.get_top_headlines(sources=j)\n",
    "        temp_data = pd.DataFrame.from_dict(top['articles'])\n",
    "        temp_data.to_csv(\"data_news.csv\", mode='a')\n",
    "    except:\n",
    "        print(\"Key 3 is used up\")\n",
    "    try:\n",
    "        top = newsapi3.get_top_headlines(sources=j)\n",
    "        temp_data = pd.DataFrame.from_dict(top['articles'])\n",
    "        temp_data.to_csv(\"data_news.csv\", mode='a')\n",
    "    except:\n",
    "        print(\"Key 4 is used up\")"
   ]
  }
 ],
 "metadata": {
  "kernelspec": {
   "display_name": "Python 3 (ipykernel)",
   "language": "python",
   "name": "python3"
  },
  "language_info": {
   "codemirror_mode": {
    "name": "ipython",
    "version": 3
   },
   "file_extension": ".py",
   "mimetype": "text/x-python",
   "name": "python",
   "nbconvert_exporter": "python",
   "pygments_lexer": "ipython3",
   "version": "3.9.7"
  }
 },
 "nbformat": 4,
 "nbformat_minor": 5
}
